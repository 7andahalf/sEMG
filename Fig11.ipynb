{
 "cells": [
  {
   "cell_type": "code",
   "execution_count": 1,
   "metadata": {},
   "outputs": [],
   "source": [
    "import numpy as np\n",
    "import matplotlib.pyplot as plt\n",
    "from scipy import signal\n",
    "from sklearn.svm import SVC\n",
    "from sklearn.model_selection import train_test_split\n",
    "from itertools import combinations \n",
    "\n",
    "#%matplotlib notebook"
   ]
  },
  {
   "cell_type": "code",
   "execution_count": 2,
   "metadata": {},
   "outputs": [],
   "source": [
    "def filt(d, fs):\n",
    "    # 50Hz notch\n",
    "    b, a = signal.iirnotch(50, 100, fs)\n",
    "    fl_d1 = signal.lfilter(b, a, d)\n",
    "\n",
    "    b, a = signal.iirnotch(100, 100, fs)\n",
    "    fl_d1 = signal.lfilter(b, a, fl_d1)\n",
    "\n",
    "    b, a = signal.iirnotch(150, 100, fs)\n",
    "    fl_d1 = signal.lfilter(b, a, fl_d1)\n",
    "\n",
    "    b, a = signal.iirnotch(200, 100, fs)\n",
    "    fl_d1 = signal.lfilter(b, a, fl_d1)\n",
    "\n",
    "    b, a = signal.iirnotch(250, 100, fs)\n",
    "    fl_d1 = signal.lfilter(b, a, fl_d1)\n",
    "\n",
    "    # bandpass filter 30 to 200Hz\n",
    "    b, a = signal.butter(3, [30 / (0.5 * fs), 200 / (0.5 * fs)], btype='band')\n",
    "    fl_d1 = signal.lfilter(b, a, fl_d1)\n",
    "    \n",
    "    return fl_d1\n",
    "\n",
    "\n",
    "def readFile(fn):\n",
    "    print(\"Reading:\",fn)\n",
    "    #Read data\n",
    "    with open(fn) as f:\n",
    "        content = f.readlines()\n",
    "    content = [x.strip() for x in content]\n",
    "    \n",
    "    # Clean data\n",
    "    d = [] # time, CH1, CH2, .., button\n",
    "    for i in content:\n",
    "        i = i[1:-1].split(\",\")\n",
    "        if len(i) == 11:\n",
    "            try:\n",
    "                t1 = [float(_) for _ in i]\n",
    "                d.append(t1)\n",
    "            except:\n",
    "                pass\n",
    "\n",
    "    # numpyconvert\n",
    "    d = np.array(d).swapaxes(0, 1)\n",
    "\n",
    "    # scale and remove dc\n",
    "    d[0] = d[0] / 10**6\n",
    "    for i in [1,2,3,4,5,6,7,8]:\n",
    "        d[i] -= np.mean(d[i])\n",
    "        \n",
    "    # stats\n",
    "    t_d = np.diff(d[0])\n",
    "    #print(np.mean(t_d)-np.std(t_d), np.mean(t_d)+np.std(t_d))\n",
    "\n",
    "    # technically wrong, but using anyways\n",
    "    # please resample properly\n",
    "\n",
    "    fs = 1/np.mean(t_d)\n",
    "    \n",
    "    button = np.convolve(d[-2], [1/1000.0]*1000, \"same\")\n",
    "    button[button > 0.1] = 1\n",
    "    button[button <= 0.1] = 0\n",
    "\n",
    "    #print(fs)\n",
    "    \n",
    "    return np.array([d[0]] + [filt(d[2], fs)] + [filt(x, fs) for x in d[4:9]] + [button])\n",
    "    \n",
    "    "
   ]
  },
  {
   "cell_type": "code",
   "execution_count": 3,
   "metadata": {},
   "outputs": [],
   "source": [
    "def window_rms(a, window_size=2):\n",
    "    return np.sqrt(sum([a[window_size-i-1:len(a)-i]**2 for i in range(window_size-1)])/window_size)\n",
    "\n",
    "def feat(x):\n",
    "    # extract a feature from list x\n",
    "    return np.max(window_rms(x, 20))\n",
    "    \n",
    "def extract_feat(x, f):\n",
    "    # get button on pos\n",
    "    xt = np.diff(x[-1])\n",
    "    st = np.array(np.where(xt == 1))[0]\n",
    "    \n",
    "    en = np.array(np.where(xt == -1))[0]\n",
    "    print(len(st), len(en))\n",
    "    le = np.array(en - st)\n",
    "    val = np.array(np.where(le > 500))[0]\n",
    "    start = st[val]\n",
    "    end = en[val]\n",
    "    \n",
    "    feat = []\n",
    "    for i in range(len(start)):\n",
    "        temp = []\n",
    "        for j in range(6):\n",
    "            temp.append(f(x[1+j][start[i] - 500:end[i] + 500]))\n",
    "        feat.append(temp)\n",
    "    return np.array(feat)"
   ]
  },
  {
   "cell_type": "code",
   "execution_count": 4,
   "metadata": {},
   "outputs": [
    {
     "name": "stdout",
     "output_type": "stream",
     "text": [
      "Reading: b_front_1.txt\n",
      "Reading: b_front_2.txt\n",
      "Reading: b_front_3.txt\n",
      "Reading: b_front_4.txt\n",
      "Reading: b_front_5.txt\n",
      "64 64\n",
      "79 79\n",
      "73 73\n",
      "89 89\n",
      "88 88\n",
      "Reading: b_side_1.txt\n",
      "Reading: b_side_2.txt\n",
      "Reading: b_side_3.txt\n",
      "Reading: b_side_4.txt\n",
      "Reading: b_side_5.txt\n",
      "74 74\n",
      "76 76\n",
      "70 70\n",
      "85 85\n",
      "87 87\n",
      "Reading: b_back_1.txt\n",
      "Reading: b_back_2.txt\n",
      "Reading: b_back_3.txt\n",
      "Reading: b_back_4.txt\n",
      "Reading: b_back_5.txt\n",
      "79 79\n",
      "100 100\n",
      "125 125\n",
      "125 125\n",
      "153 153\n"
     ]
    }
   ],
   "source": [
    "files = [\"b_front_\" + str(i) + \".txt\" for i in range(1,6)]\n",
    "read_dat = [readFile(_) for _ in files]\n",
    "feats_a = [extract_feat(_, feat) for _ in read_dat]\n",
    "\n",
    "files = [\"b_side_\" + str(i) + \".txt\" for i in range(1,6)]\n",
    "read_dat = [readFile(_) for _ in files]\n",
    "feats_b = [extract_feat(_, feat) for _ in read_dat]\n",
    "\n",
    "files = [\"b_back_\" + str(i) + \".txt\" for i in range(1,6)]\n",
    "read_dat = [readFile(_) for _ in files]\n",
    "feats_c = [extract_feat(_, feat) for _ in read_dat]"
   ]
  },
  {
   "cell_type": "code",
   "execution_count": 5,
   "metadata": {},
   "outputs": [],
   "source": [
    "def getAccuracy(X, y, r = 0.5, repeat = 1000): #r is test train split 0.5 => equal division\n",
    "    train_acc_arr, test_acc_arr = [], []\n",
    "    for _ in range(repeat):\n",
    "        X_train, X_test, y_train, y_test = train_test_split(X, y, test_size=r)\n",
    "\n",
    "        clf = SVC(gamma='auto')\n",
    "        clf.fit(X_train, y_train)\n",
    "\n",
    "        res = clf.predict(X_train) - y_train\n",
    "        train_acc = len(np.where(res == 0)[0])*100/len(res)\n",
    "\n",
    "        res = clf.predict(X_test) - y_test\n",
    "        test_acc = len(np.where(res == 0)[0])*100/len(res)\n",
    "        \n",
    "        train_acc_arr.append(train_acc)\n",
    "        test_acc_arr.append(test_acc)\n",
    "    return (np.mean(train_acc_arr), np.mean(test_acc_arr))"
   ]
  },
  {
   "cell_type": "code",
   "execution_count": 6,
   "metadata": {},
   "outputs": [],
   "source": [
    "def getXy(feats, channels, ratio_i = None):\n",
    "    X, y = [], []\n",
    "    for ci,fe in enumerate(feats):\n",
    "        for i in range(len(fe)):\n",
    "            y.append(ci)\n",
    "            \n",
    "            fep = []\n",
    "            for chi in channels:\n",
    "                 fep.append(fe[i][chi])\n",
    "            if not ratio_i is None:\n",
    "                div = fep.pop(ratio_i)\n",
    "            else:\n",
    "                div = 1.0\n",
    "            X.append(np.array(fep)/div)\n",
    "    return X,y"
   ]
  },
  {
   "cell_type": "code",
   "execution_count": 7,
   "metadata": {},
   "outputs": [
    {
     "name": "stdout",
     "output_type": "stream",
     "text": [
      "A\n",
      "[77.61,\t67.35,\t58.25,\t]\n",
      "[67.68,\t75.0,\t62.03,\t]\n",
      "[62.09,\t65.82,\t69.76,\t]\n"
     ]
    }
   ],
   "source": [
    "feats_all = [feats_a, feats_b, feats_c]\n",
    "\n",
    "print(\"A\")\n",
    "\n",
    "for i in feats_all:\n",
    "    print(\"[\", end = \"\")\n",
    "    for j in feats_all:\n",
    "\n",
    "        X_train, y_train = getXy(i, (0, 1, 2, 3, 4, 5), 2)\n",
    "        X_test, y_test = getXy(j, (0, 1, 2, 3, 4, 5), 2)\n",
    "\n",
    "        clf = SVC(gamma='auto')\n",
    "        clf.fit(X_train, y_train)\n",
    "\n",
    "        res = clf.predict(X_train) - y_train\n",
    "        train_acc = len(np.where(res == 0)[0])*100/len(res)\n",
    "\n",
    "        res = clf.predict(X_test) - y_test\n",
    "        test_acc = len(np.where(res == 0)[0])*100/len(res)\n",
    "        \n",
    "        print(round(test_acc,2), end = \",\\t\")\n",
    "    print(\"]\")\n",
    "    "
   ]
  },
  {
   "cell_type": "code",
   "execution_count": 4,
   "metadata": {},
   "outputs": [
    {
     "data": {
      "text/plain": [
       "<Figure size 360x288 with 0 Axes>"
      ]
     },
     "metadata": {},
     "output_type": "display_data"
    },
    {
     "data": {
      "image/png": "[encoded data removed]",
      "text/plain": [
       "<Figure size 432x288 with 1 Axes>"
      ]
     },
     "metadata": {
      "needs_background": "light"
     },
     "output_type": "display_data"
    }
   ],
   "source": [
    "font = {'family' : 'Times New Roman ',\n",
    "        'weight' : 'regular',\n",
    "        'size'   : 12}\n",
    "\n",
    "plt.rc('font', **font)\n",
    "\n",
    "plt.figure(figsize=(5,4))\n",
    "\n",
    "fig, ax = plt.subplots()\n",
    "\n",
    "ax.set_xticks([0,1,2])\n",
    "ax.set_yticks([0,1,2])\n",
    "ax.set_xticklabels([\"0 degrees\", \"90 degrees\", \"180 degrees\"])\n",
    "ax.set_yticklabels([\"0 degrees\", \"90 degrees\", \"180 degrees\"])\n",
    "\n",
    "plt.xlabel(\"Testing data\")\n",
    "plt.ylabel(\"Training data\")\n",
    "#plt.title(\"Inter rotation training and testing\")\n",
    "\n",
    "res = [[77.61,\t67.35,\t58.25,\t],\n",
    "[67.68,\t75.0,\t62.03,\t],\n",
    "[62.09,\t65.82,\t69.76,\t]]\n",
    "plt.imshow(res)\n",
    "for i in range(3):\n",
    "    for j in range(3):\n",
    "        text = plt.text(j, i, res[i][j],ha=\"center\", va=\"center\", color=\"black\")\n",
    "\n",
    "\n"
   ]
  },
  {
   "cell_type": "code",
   "execution_count": null,
   "metadata": {},
   "outputs": [],
   "source": []
  }
 ],
 "metadata": {
  "kernelspec": {
   "display_name": "Python 3 (ipykernel)",
   "language": "python",
   "name": "python3"
  },
  "language_info": {
   "codemirror_mode": {
    "name": "ipython",
    "version": 3
   },
   "file_extension": ".py",
   "mimetype": "text/x-python",
   "name": "python",
   "nbconvert_exporter": "python",
   "pygments_lexer": "ipython3",
   "version": "3.10.6"
  }
 },
 "nbformat": 4,
 "nbformat_minor": 2
}
